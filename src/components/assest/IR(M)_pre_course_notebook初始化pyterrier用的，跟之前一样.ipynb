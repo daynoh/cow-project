{
  "nbformat": 4,
  "nbformat_minor": 0,
  "metadata": {
    "colab": {
      "provenance": []
    },
    "kernelspec": {
      "name": "python3",
      "display_name": "Python 3"
    },
    "language_info": {
      "name": "python"
    }
  },
  "cells": [
    {
      "cell_type": "markdown",
      "metadata": {
        "id": "J2lr_KXYEhRI"
      },
      "source": [
        "# PyTerrier installation & verification\n",
        "\n",
        "Courseworks in the Information Retrieval (M) course are based on the [PyTerrier](https://github.com/terrier-org/pyterrier) framework.\n",
        "\n",
        "PyTerrier is usable on [Google Colab](https://colab.research.google.com/), or using a Jupyter notebook on your personal computer. The requirements for using PyTerrier this year are:\n",
        "  - Linux, macOS or Windows\n",
        "  - Python 3.7 - 3.10\n",
        "  - Java 11 or newer\n",
        "  - 3GB local free disk space\n",
        "\n",
        "The purposes of this notebook is for you to test your environment before the course starts. \n",
        "\n",
        "Our recomended platform is Google Colab. \n",
        "\n",
        "NB: If your personal environment does not work, you MUST resort to using Google Colab. NB: We cannot offer support for local installations. If you cannot directly access  Google Colab, you can access it using the University's [Glasgow Anywhere](https://www.gla.ac.uk/myglasgow/anywhere/) remote desktop facilities."
      ]
    },
    {
      "cell_type": "markdown",
      "source": [
        "# Check Python version"
      ],
      "metadata": {
        "id": "i_wCywzZA1Oc"
      }
    },
    {
      "cell_type": "code",
      "source": [
        "import sys\n",
        "assert sys.version_info >= (3, 7), \"Python too old - Python 3.7 required\"\n",
        "assert sys.version_info <= (3, 10), \"Python too new - Python 3.11 not yet supported\""
      ],
      "metadata": {
        "id": "qNKGA_RpA0wv"
      },
      "execution_count": null,
      "outputs": []
    },
    {
      "cell_type": "markdown",
      "metadata": {
        "id": "_nvdfCu5G3NG"
      },
      "source": [
        "## Install PyTerrier\n",
        "\n",
        "This will install all of the needed dependencies. This might take a few minutes."
      ]
    },
    {
      "cell_type": "code",
      "metadata": {
        "id": "_Ynj7SdnEgq0"
      },
      "source": [
        "%pip install python-terrier"
      ],
      "execution_count": null,
      "outputs": []
    },
    {
      "cell_type": "markdown",
      "metadata": {
        "id": "yh_UVHVdG9CL"
      },
      "source": [
        "# Use PyTerrier\n",
        "\n",
        " - If you have errors here, you may need to set your JAVA_HOME environment variable.\n",
        " - Any warnings about the \"Panel class is removed from pandas\" can be ignored."
      ]
    },
    {
      "cell_type": "code",
      "metadata": {
        "id": "5tBQH9EnEfc6"
      },
      "source": [
        "import pyterrier as pt\n",
        "pt.init()"
      ],
      "execution_count": null,
      "outputs": []
    },
    {
      "cell_type": "markdown",
      "metadata": {
        "id": "38t2URnmIVds"
      },
      "source": [
        "Lets use a small index to test retrieval. Some more files will be downloaded."
      ]
    },
    {
      "cell_type": "code",
      "metadata": {
        "id": "RZHxRws5Gdgy"
      },
      "source": [
        "dataset = pt.get_dataset(\"vaswani\")\n",
        "br = pt.BatchRetrieve(dataset.get_index())\n",
        "br.search(\"chemical reactions\").head(10)"
      ],
      "execution_count": null,
      "outputs": []
    },
    {
      "cell_type": "markdown",
      "metadata": {
        "id": "wQTC-KY3Iu4h"
      },
      "source": [
        "And quickly run an experiment."
      ]
    },
    {
      "cell_type": "code",
      "metadata": {
        "id": "Q2-3a5VYGqr-"
      },
      "source": [
        "pt.Experiment(\n",
        "    [br], \n",
        "    dataset.get_topics(),\n",
        "    dataset.get_qrels(),\n",
        "    [\"map\", \"recip_rank\"]\n",
        ")"
      ],
      "execution_count": null,
      "outputs": []
    },
    {
      "cell_type": "markdown",
      "metadata": {
        "id": "7tFOp9kqHGzl"
      },
      "source": [
        "# Check Diskspace\n",
        "\n",
        "You will need about 3GB of free disk space in your home directory to conduct the IR(M) experiments.\n"
      ]
    },
    {
      "cell_type": "code",
      "metadata": {
        "id": "1O4UnC8WHTrk"
      },
      "source": [
        "import shutil\n",
        "_,_, free = shutil.disk_usage(pt.HOME_DIR)\n",
        "assert free > 3 * 1024 * 1024 * 1024, \"You dont have enough free disk space\"\n",
        "print(\"You are good for disk space\")"
      ],
      "execution_count": null,
      "outputs": []
    },
    {
      "cell_type": "markdown",
      "metadata": {
        "id": "m-acocJMHWWJ"
      },
      "source": [
        "## Ok, validation completed\n",
        "\n",
        "There are two further steps you must complete before Friday 4th June.\n",
        "\n",
        "Please remember to complete: \n",
        "1.   sign and scan collection agreement\n",
        "2.   upload to the Moodle quiz\n",
        "\n"
      ]
    }
  ]
}